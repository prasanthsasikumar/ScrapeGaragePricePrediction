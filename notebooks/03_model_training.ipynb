{
 "cells": [
  {
   "cell_type": "code",
   "execution_count": null,
   "id": "b7188818",
   "metadata": {},
   "outputs": [],
   "source": [
    "import pandas as pd\n",
    "from sklearn.preprocessing import OneHotEncoder\n",
    "from sklearn.ensemble import RandomForestRegressor\n",
    "from sklearn.model_selection import train_test_split\n",
    "from sklearn.compose import ColumnTransformer\n",
    "from sklearn.pipeline import Pipeline\n",
    "import joblib\n",
    "\n",
    "file_path = 'sub_dataset.csv'\n",
    "df = pd.read_csv(file_path)\n",
    "\n",
    "X = df[['Model', 'Mileage', 'Manufacturer', 'Stolen', 'Model Year']]\n",
    "y = df['Price']\n",
    "\n",
    "# Split data\n",
    "X_train, X_test, y_train, y_test = train_test_split(X, y, random_state=42)\n",
    "\n",
    "# Build pipeline\n",
    "categorical = ['Model', 'Manufacturer', 'Stolen']\n",
    "numerical = ['Mileage', 'Model Year']\n",
    "\n",
    "preprocessor = ColumnTransformer([\n",
    "    ('cat', OneHotEncoder(handle_unknown='ignore'), categorical),\n",
    "    ('num', 'passthrough', numerical)\n",
    "])\n",
    "\n",
    "model = Pipeline([\n",
    "    ('preprocessor', preprocessor),\n",
    "    ('regressor', RandomForestRegressor(random_state=42))\n",
    "])\n",
    "\n",
    "# Train\n",
    "model.fit(X_train, y_train)\n",
    "joblib.dump(model, 'car_price_model.pkl')\n"
   ]
  },
  {
   "cell_type": "code",
   "execution_count": null,
   "id": "98042544",
   "metadata": {},
   "outputs": [],
   "source": [
    "#check if all values in coloumn 'Price' is a numeric or convertible to numeric\n",
    "def is_numeric(value):\n",
    "    try:\n",
    "        float(value)\n",
    "        return True\n",
    "    except ValueError:\n",
    "        return False\n",
    "    \n",
    "#show values that are not numeric\n",
    "non_numeric_prices = df[~df['Price'].apply(is_numeric)]\n",
    "if not non_numeric_prices.empty:\n",
    "    print(\"Non-numeric values found in 'Price' column:\")\n",
    "    print(non_numeric_prices)\n",
    "else:\n",
    "    print(\"All values in 'Price' column are numeric or convertible to numeric.\")"
   ]
  },
  {
   "cell_type": "code",
   "execution_count": null,
   "id": "65a6942b",
   "metadata": {},
   "outputs": [],
   "source": [
    "print(X['Mileage'].unique())\n",
    "print(X['Mileage'].dtype)\n"
   ]
  },
  {
   "cell_type": "code",
   "execution_count": null,
   "id": "653cf8fb",
   "metadata": {},
   "outputs": [],
   "source": []
  },
  {
   "cell_type": "code",
   "execution_count": null,
   "id": "10adbe9a",
   "metadata": {},
   "outputs": [],
   "source": [
    "from sklearn.metrics import mean_absolute_error, mean_squared_error, r2_score\n",
    "\n",
    "y_pred = model.predict(X_test)\n",
    "mae = mean_absolute_error(y_test, y_pred)\n",
    "rmse = mean_squared_error(y_test, y_pred, squared=False)  # squared=False gives RMSE\n",
    "r2 = r2_score(y_test, y_pred)\n",
    "\n",
    "print(f\"MAE: {mae:.2f}\")\n",
    "print(f\"RMSE: {rmse:.2f}\")\n",
    "print(f\"R² Score: {r2:.2f}\")\n"
   ]
  },
  {
   "cell_type": "code",
   "execution_count": null,
   "id": "bc94a1ef",
   "metadata": {},
   "outputs": [],
   "source": [
    "import matplotlib.pyplot as plt\n",
    "\n",
    "plt.scatter(y_test, y_pred, alpha=0.5)\n",
    "plt.xlabel(\"Actual Price\")\n",
    "plt.ylabel(\"Predicted Price\")\n",
    "plt.title(\"Actual vs. Predicted Car Prices\")\n",
    "plt.grid(True)\n",
    "plt.show()"
   ]
  },
  {
   "cell_type": "code",
   "execution_count": null,
   "id": "b2c75f64",
   "metadata": {},
   "outputs": [],
   "source": [
    "#check if all values in coloumn 'Price' is a numeric or convertible to numeric\n",
    "def is_numeric(value):\n",
    "    try:\n",
    "        float(value)\n",
    "        return True\n",
    "    except ValueError:\n",
    "        return False\n",
    "    \n",
    "#show values that are not numeric\n",
    "non_numeric_prices = df[~df['Price'].apply(is_numeric)]\n",
    "if not non_numeric_prices.empty:\n",
    "    print(\"Non-numeric values found in 'Price' column:\")\n",
    "    print(non_numeric_prices)\n",
    "else:\n",
    "    print(\"All values in 'Price' column are numeric or convertible to numeric.\")"
   ]
  },
  {
   "cell_type": "code",
   "execution_count": null,
   "id": "24620fd7",
   "metadata": {},
   "outputs": [],
   "source": [
    "tolerance = 0.20  # 20%\n",
    "\n",
    "# Compute % error for each prediction\n",
    "relative_errors = abs(y_pred - y_test) / y_test\n",
    "\n",
    "# Count how many predictions fall within ±20%\n",
    "accuracy_within_20pct = (relative_errors <= tolerance).mean()\n",
    "\n",
    "print(f\"Prediction accuracy within ±20%: {accuracy_within_20pct * 100:.2f}%\")\n"
   ]
  },
  {
   "cell_type": "code",
   "execution_count": null,
   "id": "dbf10799",
   "metadata": {},
   "outputs": [],
   "source": [
    "# Create a DataFrame with one row for your input car\n",
    "input_data = pd.DataFrame({\n",
    "    'Model': ['Outlander'],\n",
    "    'Mileage': [80000],         # adjust mileage as needed\n",
    "    'Manufacturer': ['Mitsubishi'],\n",
    "    'Stolen': ['No'],\n",
    "    'Model Year': [2015]\n",
    "})\n",
    "\n",
    "# Use your trained pipeline (named 'model' in your code)\n",
    "predicted_price = model.predict(input_data)\n",
    "\n",
    "print(f\"Predicted price for 2015 Mitsubishi Outlander with 50,000 mileage: ${predicted_price[0]:.2f}\")"
   ]
  },
  {
   "cell_type": "code",
   "execution_count": null,
   "id": "8bcf0681",
   "metadata": {},
   "outputs": [],
   "source": []
  }
 ],
 "metadata": {
  "kernelspec": {
   "display_name": "base",
   "language": "python",
   "name": "python3"
  },
  "language_info": {
   "codemirror_mode": {
    "name": "ipython",
    "version": 3
   },
   "file_extension": ".py",
   "mimetype": "text/x-python",
   "name": "python",
   "nbconvert_exporter": "python",
   "pygments_lexer": "ipython3",
   "version": "3.12.4"
  }
 },
 "nbformat": 4,
 "nbformat_minor": 5
}
